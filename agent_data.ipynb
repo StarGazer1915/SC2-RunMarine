{
 "cells": [
  {
   "cell_type": "code",
   "execution_count": 1,
   "metadata": {},
   "outputs": [],
   "source": [
    "import pandas as pd\n",
    "import matplotlib.pyplot as plt\n",
    "import numpy as np"
   ]
  },
  {
   "cell_type": "code",
   "execution_count": 2,
   "metadata": {},
   "outputs": [],
   "source": [
    "agent_df = pd.read_csv(\"agent_data.csv\", delimiter=\";\")"
   ]
  },
  {
   "cell_type": "code",
   "execution_count": 3,
   "metadata": {},
   "outputs": [
    {
     "data": {
      "text/html": [
       "<div>\n",
       "<style scoped>\n",
       "    .dataframe tbody tr th:only-of-type {\n",
       "        vertical-align: middle;\n",
       "    }\n",
       "\n",
       "    .dataframe tbody tr th {\n",
       "        vertical-align: top;\n",
       "    }\n",
       "\n",
       "    .dataframe thead th {\n",
       "        text-align: right;\n",
       "    }\n",
       "</style>\n",
       "<table border=\"1\" class=\"dataframe\">\n",
       "  <thead>\n",
       "    <tr style=\"text-align: right;\">\n",
       "      <th></th>\n",
       "      <th>Agent</th>\n",
       "      <th>Agent_Type</th>\n",
       "      <th>Chosen_Action</th>\n",
       "      <th>Performance_Score</th>\n",
       "      <th>Epoch</th>\n",
       "    </tr>\n",
       "  </thead>\n",
       "  <tbody>\n",
       "    <tr>\n",
       "      <th>0</th>\n",
       "      <td>4299948033</td>\n",
       "      <td>altruistic</td>\n",
       "      <td>Attack</td>\n",
       "      <td>-0.5</td>\n",
       "      <td>0</td>\n",
       "    </tr>\n",
       "    <tr>\n",
       "      <th>1</th>\n",
       "      <td>4296802305</td>\n",
       "      <td>altruistic</td>\n",
       "      <td>Attack</td>\n",
       "      <td>-0.5</td>\n",
       "      <td>0</td>\n",
       "    </tr>\n",
       "    <tr>\n",
       "      <th>2</th>\n",
       "      <td>4295491585</td>\n",
       "      <td>rational</td>\n",
       "      <td>Flee</td>\n",
       "      <td>6.5</td>\n",
       "      <td>0</td>\n",
       "    </tr>\n",
       "    <tr>\n",
       "      <th>3</th>\n",
       "      <td>4301258753</td>\n",
       "      <td>rational</td>\n",
       "      <td>Flee</td>\n",
       "      <td>0.5</td>\n",
       "      <td>0</td>\n",
       "    </tr>\n",
       "    <tr>\n",
       "      <th>4</th>\n",
       "      <td>4297588737</td>\n",
       "      <td>attacker</td>\n",
       "      <td>Attack</td>\n",
       "      <td>0.0</td>\n",
       "      <td>0</td>\n",
       "    </tr>\n",
       "    <tr>\n",
       "      <th>...</th>\n",
       "      <td>...</td>\n",
       "      <td>...</td>\n",
       "      <td>...</td>\n",
       "      <td>...</td>\n",
       "      <td>...</td>\n",
       "    </tr>\n",
       "    <tr>\n",
       "      <th>235</th>\n",
       "      <td>4301258753</td>\n",
       "      <td>runner</td>\n",
       "      <td>Flee</td>\n",
       "      <td>0.5</td>\n",
       "      <td>0</td>\n",
       "    </tr>\n",
       "    <tr>\n",
       "      <th>236</th>\n",
       "      <td>4296540161</td>\n",
       "      <td>altruistic</td>\n",
       "      <td>Attack</td>\n",
       "      <td>4.0</td>\n",
       "      <td>0</td>\n",
       "    </tr>\n",
       "    <tr>\n",
       "      <th>237</th>\n",
       "      <td>4299948033</td>\n",
       "      <td>rational</td>\n",
       "      <td>Attack</td>\n",
       "      <td>3.5</td>\n",
       "      <td>0</td>\n",
       "    </tr>\n",
       "    <tr>\n",
       "      <th>238</th>\n",
       "      <td>4298375169</td>\n",
       "      <td>attacker</td>\n",
       "      <td>Attack</td>\n",
       "      <td>11.0</td>\n",
       "      <td>0</td>\n",
       "    </tr>\n",
       "    <tr>\n",
       "      <th>239</th>\n",
       "      <td>4295491585</td>\n",
       "      <td>altruistic</td>\n",
       "      <td>Attack</td>\n",
       "      <td>11.0</td>\n",
       "      <td>0</td>\n",
       "    </tr>\n",
       "  </tbody>\n",
       "</table>\n",
       "<p>240 rows × 5 columns</p>\n",
       "</div>"
      ],
      "text/plain": [
       "          Agent  Agent_Type Chosen_Action  Performance_Score  Epoch\n",
       "0    4299948033  altruistic        Attack               -0.5      0\n",
       "1    4296802305  altruistic        Attack               -0.5      0\n",
       "2    4295491585    rational          Flee                6.5      0\n",
       "3    4301258753    rational          Flee                0.5      0\n",
       "4    4297588737    attacker        Attack                0.0      0\n",
       "..          ...         ...           ...                ...    ...\n",
       "235  4301258753      runner          Flee                0.5      0\n",
       "236  4296540161  altruistic        Attack                4.0      0\n",
       "237  4299948033    rational        Attack                3.5      0\n",
       "238  4298375169    attacker        Attack               11.0      0\n",
       "239  4295491585  altruistic        Attack               11.0      0\n",
       "\n",
       "[240 rows x 5 columns]"
      ]
     },
     "execution_count": 3,
     "metadata": {},
     "output_type": "execute_result"
    }
   ],
   "source": [
    "agent_df"
   ]
  },
  {
   "cell_type": "code",
   "execution_count": 5,
   "metadata": {},
   "outputs": [],
   "source": [
    "rational_scores = agent_df[\"Performance_Score\"][agent_df[\"Agent_Type\"] == \"rational\"]\n",
    "altruistic_scores = agent_df[\"Performance_Score\"][agent_df[\"Agent_Type\"] == \"altruistic\"]\n",
    "runner_scores = agent_df[\"Performance_Score\"][agent_df[\"Agent_Type\"] == \"runner\"]\n",
    "attacker_scores = agent_df[\"Performance_Score\"][agent_df[\"Agent_Type\"] == \"attacker\"]"
   ]
  },
  {
   "cell_type": "code",
   "execution_count": 9,
   "metadata": {},
   "outputs": [
    {
     "data": {
      "image/png": "[encoded data removed]",
      "text/plain": [
       "<Figure size 640x480 with 1 Axes>"
      ]
     },
     "metadata": {},
     "output_type": "display_data"
    }
   ],
   "source": [
    "columns = [altruistic_scores, rational_scores, runner_scores, attacker_scores]\n",
    "\n",
    "fig, ax = plt.subplots()\n",
    "ax.boxplot(columns)\n",
    "plt.xticks([1, 2, 3, 4], [\"Altruistic\", \"Rational\", \"Runner\", \"Attacker\"], rotation=10)\n",
    "plt.title(\"Performance scores per agent type\")\n",
    "plt.show()"
   ]
  },
  {
   "cell_type": "code",
   "execution_count": 10,
   "metadata": {},
   "outputs": [
    {
     "data": {
      "image/png": "[encoded data removed]",
      "text/plain": [
       "<Figure size 640x480 with 1 Axes>"
      ]
     },
     "metadata": {},
     "output_type": "display_data"
    }
   ],
   "source": [
    "fig, ax = plt.subplots()\n",
    "ax.bar([\"Altruistic\", \"Rational\", \"Runner\", \"Attacker\"], [altruistic_scores.mean(), rational_scores.mean(), runner_scores.mean(), attacker_scores.mean()])\n",
    "# plt.xticks([1, 2, 3, 4], [\"Greedy\", \"Rational\", \"Runner\", \"Attacker\"], rotation=10)\n",
    "plt.title(\"Average Performance scores per Agent Type\")\n",
    "plt.show()"
   ]
  },
  {
   "cell_type": "code",
   "execution_count": null,
   "metadata": {},
   "outputs": [],
   "source": []
  }
 ],
 "metadata": {
  "kernelspec": {
   "display_name": "Python 3",
   "language": "python",
   "name": "python3"
  },
  "language_info": {
   "codemirror_mode": {
    "name": "ipython",
    "version": 3
   },
   "file_extension": ".py",
   "mimetype": "text/x-python",
   "name": "python",
   "nbconvert_exporter": "python",
   "pygments_lexer": "ipython3",
   "version": "3.10.10"
  },
  "orig_nbformat": 4
 },
 "nbformat": 4,
 "nbformat_minor": 2
}
